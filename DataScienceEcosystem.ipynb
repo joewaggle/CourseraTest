{
 "cells": [
  {
   "cell_type": "markdown",
   "id": "4c0af516-9563-4617-9222-cddfbe21fcd4",
   "metadata": {},
   "source": [
    "# Data Science Tools and Ecosystem"
   ]
  },
  {
   "cell_type": "markdown",
   "id": "aab36324-d23f-4c7a-87fe-fc96021ac5af",
   "metadata": {},
   "source": [
    "In this notebook, Data Science Tools and Ecosystem are summarized."
   ]
  },
  {
   "cell_type": "markdown",
   "id": "9a3e4c4a-d735-4ec5-8d92-10da1cd3c8f9",
   "metadata": {},
   "source": [
    "Some of the popular languages that Data Scientists use are:"
   ]
  },
  {
   "cell_type": "markdown",
   "id": "e2c230dc-96e4-42dd-b3c7-5a6c1b7e40d1",
   "metadata": {},
   "source": [
    "1. Python\n",
    "2. R language\n",
    "3. SQL\n",
    "4. Scala\n",
    "5. Java\n",
    "6. C++\n",
    "7. Julia"
   ]
  },
  {
   "cell_type": "markdown",
   "id": "6420d1a4-c6d5-45bd-9702-3e37e696bd9c",
   "metadata": {},
   "source": [
    "Some of the commonly used libraries used by Data Scientists include:"
   ]
  },
  {
   "cell_type": "markdown",
   "id": "293821f7-c5b7-4c9f-8d5e-f8904ade02d4",
   "metadata": {},
   "source": [
    "1. Pandas\n",
    "2. NumPy\n",
    "3. Matplotlib\n",
    "4. Seaborn\n",
    "5. Scikit-learn\n",
    "6. Keras\n",
    "7. Pytorch\n",
    "8. Apache Spark"
   ]
  },
  {
   "cell_type": "markdown",
   "id": "cdd67348-b605-4abd-a8d1-71d8a933aa4a",
   "metadata": {},
   "source": [
    "| Data Science Tools |\n",
    "|-------------|\n",
    "| Anaconda |\n",
    "| RStudio |\n",
    "| GoogleColab |"
   ]
  },
  {
   "cell_type": "markdown",
   "id": "70ea61fc-9200-4863-954b-b3d7c076acac",
   "metadata": {},
   "source": [
    "### Below are a few examples of evaluating arithmetic expressions in Python."
   ]
  },
  {
   "cell_type": "code",
   "execution_count": null,
   "id": "98449311-3ffc-464b-8885-1e7fb2bc4a3c",
   "metadata": {},
   "outputs": [],
   "source": []
  }
 ],
 "metadata": {
  "kernelspec": {
   "display_name": "Python 3 (ipykernel)",
   "language": "python",
   "name": "python3"
  },
  "language_info": {
   "codemirror_mode": {
    "name": "ipython",
    "version": 3
   },
   "file_extension": ".py",
   "mimetype": "text/x-python",
   "name": "python",
   "nbconvert_exporter": "python",
   "pygments_lexer": "ipython3",
   "version": "3.12.8"
  }
 },
 "nbformat": 4,
 "nbformat_minor": 5
}

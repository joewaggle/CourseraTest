{
  "metadata": {
    "kernelspec": {
      "name": "python",
      "display_name": "Python (Pyodide)",
      "language": "python"
    },
    "language_info": {
      "codemirror_mode": {
        "name": "python",
        "version": 3
      },
      "file_extension": ".py",
      "mimetype": "text/x-python",
      "name": "python",
      "nbconvert_exporter": "python",
      "pygments_lexer": "ipython3",
      "version": "3.8"
    }
  },
  "nbformat_minor": 5,
  "nbformat": 4,
  "cells": [
    {
      "id": "42f13674-8f00-443a-937f-e29bfcf217b7",
      "cell_type": "markdown",
      "source": "# Data Science Tools and Ecosystem",
      "metadata": {}
    },
    {
      "id": "9194d7af-563d-4626-b03a-f20b6879e467",
      "cell_type": "markdown",
      "source": "## Author\nJoseph McCartney Waggle",
      "metadata": {}
    },
    {
      "id": "6b7a205c-4899-4223-a8fc-ca6ced48fb59",
      "cell_type": "markdown",
      "source": "In this notebook, Data Science Tools and Ecosystem are summarized.",
      "metadata": {}
    },
    {
      "id": "4426c1c4-0b8d-4b97-a877-93f040976063",
      "cell_type": "markdown",
      "source": "**Objectives:**\n- List popular languages used in data science\n- List commonly used libraries in data science\n- List open source development environments in data science\n- Demonstrate the functionality of Jupyter notebooks\n- Write arithmetic functions in Python",
      "metadata": {}
    },
    {
      "id": "93a27920-fc9a-4e4f-ad17-13a86d499ec9",
      "cell_type": "markdown",
      "source": "Some of the popular languages that Data Scientists use are:\n1. Python\n2. R language\n3. SQL\n4. Scala\n5. Java\n6. C++\n7. Julia",
      "metadata": {}
    },
    {
      "id": "0bba8936-7cb7-46b9-a2aa-58131aecba75",
      "cell_type": "markdown",
      "source": "Some of the commonly used libraries used by Data Scientists include:\n1. Pandas\n2. NumPy\n3. Matplotlib\n4. Seaborn\n5. Scikit-learn\n6. Keras\n7. Pytorch\n8. Apache Spark",
      "metadata": {}
    },
    {
      "id": "27d12a3c-d2e4-4101-b794-176b267d18d8",
      "cell_type": "markdown",
      "source": "| Data Science Tools |\n|-------------|\n| Anaconda |\n| RStudio |\n| GoogleColab |",
      "metadata": {}
    },
    {
      "id": "94d8bd56-c3ee-41af-8315-3cef3e3a3b78",
      "cell_type": "markdown",
      "source": "### Below are a few examples of evaluating arithmetic expressions in Python.",
      "metadata": {}
    },
    {
      "id": "c9c11c33-56a5-49e1-af33-b01460c1ba53",
      "cell_type": "code",
      "source": "#This a simple arithmetic expression to multiply then add integers#\n\n(3*4)+5",
      "metadata": {
        "trusted": true
      },
      "outputs": [
        {
          "execution_count": 1,
          "output_type": "execute_result",
          "data": {
            "text/plain": "17"
          },
          "metadata": {}
        }
      ],
      "execution_count": 1
    },
    {
      "id": "e792ae04-4568-4e35-8679-9dcbf0d0130f",
      "cell_type": "code",
      "source": "#This will convert 200 minutes to hours by diving by 60#\n\n200/60",
      "metadata": {
        "trusted": true
      },
      "outputs": [
        {
          "execution_count": 2,
          "output_type": "execute_result",
          "data": {
            "text/plain": "3.3333333333333335"
          },
          "metadata": {}
        }
      ],
      "execution_count": 2
    },
    {
      "id": "962802aa-4185-4d37-a44c-09c01d2b1d0f",
      "cell_type": "code",
      "source": "",
      "metadata": {
        "trusted": true
      },
      "outputs": [],
      "execution_count": null
    }
  ]
}